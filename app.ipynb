{
 "cells": [
  {
   "cell_type": "code",
   "execution_count": 1,
   "id": "d80c26be",
   "metadata": {},
   "outputs": [],
   "source": [
    "from flask import Flask,render_template,request\n",
    "import pickle\n",
    "import numpy as np"
   ]
  },
  {
   "cell_type": "code",
   "execution_count": 2,
   "id": "2c8282bb",
   "metadata": {},
   "outputs": [],
   "source": [
    "popular_df = pickle.load(open('popular.pkl','rb'))\n",
    "pt = pickle.load(open('pt.pkl','rb'))\n",
    "books = pickle.load(open('books.pkl','rb'))\n",
    "similarity_scores = pickle.load(open('similarity_scores.pkl','rb'))"
   ]
  },
  {
   "cell_type": "code",
   "execution_count": 3,
   "id": "d6fad246",
   "metadata": {},
   "outputs": [],
   "source": [
    "app = Flask(__name__)\n",
    "\n",
    "@app.route('/')\n",
    "def index():\n",
    "    return render_template('index.html',\n",
    "                           book_name = list(popular_df['Book-Title'].values),\n",
    "                           author=list(popular_df['Book-Author'].values),\n",
    "                           image=list(popular_df['Image-URL-M'].values),\n",
    "                           votes=list(popular_df['num_ratings'].values),\n",
    "                           rating=list(popular_df['avg_rating'].values)\n",
    "                           )"
   ]
  },
  {
   "cell_type": "code",
   "execution_count": 4,
   "id": "7a475909",
   "metadata": {},
   "outputs": [],
   "source": [
    "@app.route('/recommend')\n",
    "def recommend_ui():\n",
    "    return render_template('recommend.html')"
   ]
  },
  {
   "cell_type": "code",
   "execution_count": 5,
   "id": "7f5fb08b",
   "metadata": {},
   "outputs": [],
   "source": [
    "@app.route('/recommend_books',methods=['post'])\n",
    "def recommend():\n",
    "    user_input = request.form.get('user_input')\n",
    "    index = np.where(pt.index == user_input)[0][0]\n",
    "    similar_items = sorted(list(enumerate(similarity_scores[index])), key=lambda x: x[1], reverse=True)[1:5]\n",
    "\n",
    "    data = []\n",
    "    for i in similar_items:\n",
    "        item = []\n",
    "        temp_df = books[books['Book-Title'] == pt.index[i[0]]]\n",
    "        item.extend(list(temp_df.drop_duplicates('Book-Title')['Book-Title'].values))\n",
    "        item.extend(list(temp_df.drop_duplicates('Book-Title')['Book-Author'].values))\n",
    "        item.extend(list(temp_df.drop_duplicates('Book-Title')['Image-URL-M'].values))\n",
    "\n",
    "        data.append(item)\n",
    "\n",
    "    print(data)\n",
    "\n",
    "    return render_template('recommend.html',data=data)"
   ]
  },
  {
   "cell_type": "code",
   "execution_count": null,
   "id": "c6337c51",
   "metadata": {},
   "outputs": [
    {
     "name": "stdout",
     "output_type": "stream",
     "text": [
      " * Serving Flask app '__main__'\n",
      " * Debug mode: off\n"
     ]
    },
    {
     "name": "stderr",
     "output_type": "stream",
     "text": [
      "WARNING: This is a development server. Do not use it in a production deployment. Use a production WSGI server instead.\n",
      " * Running on http://127.0.0.1:5000\n",
      "Press CTRL+C to quit\n",
      "127.0.0.1 - - [03/Jan/2023 12:40:55] \"POST /recommend_books HTTP/1.1\" 200 -\n"
     ]
    },
    {
     "name": "stdout",
     "output_type": "stream",
     "text": [
      "[['1984', 'George Orwell', 'http://images.amazon.com/images/P/0451524934.01.MZZZZZZZ.jpg'], ['Angus, Thongs and Full-Frontal Snogging: Confessions of Georgia Nicolson', 'Louise Rennison', 'http://images.amazon.com/images/P/0064472272.01.MZZZZZZZ.jpg'], ['Midnight', 'Dean R. Koontz', 'http://images.amazon.com/images/P/0425118703.01.MZZZZZZZ.jpg'], ['Second Nature', 'Alice Hoffman', 'http://images.amazon.com/images/P/0399139087.01.MZZZZZZZ.jpg']]\n"
     ]
    },
    {
     "name": "stderr",
     "output_type": "stream",
     "text": [
      "127.0.0.1 - - [03/Jan/2023 12:41:22] \"POST /recommend_books HTTP/1.1\" 200 -\n"
     ]
    },
    {
     "name": "stdout",
     "output_type": "stream",
     "text": [
      "[['Winter Moon', 'Dean R. Koontz', 'http://images.amazon.com/images/P/0553582933.01.MZZZZZZZ.jpg'], ['Dark Rivers of the Heart', 'Dean R. Koontz', 'http://images.amazon.com/images/P/034539657X.01.MZZZZZZZ.jpg'], ['Shadowfires', 'Dean R. Koontz', 'http://images.amazon.com/images/P/0425136981.01.MZZZZZZZ.jpg'], ['While My Pretty One Sleeps', 'Mary Higgins Clark', 'http://images.amazon.com/images/P/0671673688.01.MZZZZZZZ.jpg']]\n"
     ]
    }
   ],
   "source": [
    "if __name__ == '__main__':\n",
    "    app.run(debug=False)"
   ]
  }
 ],
 "metadata": {
  "kernelspec": {
   "display_name": "Python 3 (ipykernel)",
   "language": "python",
   "name": "python3"
  },
  "language_info": {
   "codemirror_mode": {
    "name": "ipython",
    "version": 3
   },
   "file_extension": ".py",
   "mimetype": "text/x-python",
   "name": "python",
   "nbconvert_exporter": "python",
   "pygments_lexer": "ipython3",
   "version": "3.9.0"
  }
 },
 "nbformat": 4,
 "nbformat_minor": 5
}
